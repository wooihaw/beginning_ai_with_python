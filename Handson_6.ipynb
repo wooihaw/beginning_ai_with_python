{
  "nbformat": 4,
  "nbformat_minor": 0,
  "metadata": {
    "colab": {
      "name": "Untitled5.ipynb",
      "provenance": [],
      "include_colab_link": true
    },
    "kernelspec": {
      "name": "python3",
      "display_name": "Python 3"
    },
    "language_info": {
      "name": "python"
    }
  },
  "cells": [
    {
      "cell_type": "markdown",
      "metadata": {
        "id": "view-in-github",
        "colab_type": "text"
      },
      "source": [
        "<a href=\"https://colab.research.google.com/github/wooihaw/beginning_ai_with_python/blob/main/Handson_6.ipynb\" target=\"_parent\"><img src=\"https://colab.research.google.com/assets/colab-badge.svg\" alt=\"Open In Colab\"/></a>"
      ]
    },
    {
      "cell_type": "markdown",
      "metadata": {
        "id": "bwmkba5RaFY3"
      },
      "source": [
        "In this hands-on, we will use a pre-trained model called Mask R-CNN to detect objects in images. It is capable of detecting up to 80 classes of objects from the images."
      ]
    },
    {
      "cell_type": "code",
      "metadata": {
        "id": "_EeJiy8duhL-"
      },
      "source": [
        "pip install pixellib"
      ],
      "execution_count": null,
      "outputs": []
    },
    {
      "cell_type": "code",
      "metadata": {
        "id": "yPs1R4K7vHI3"
      },
      "source": [
        "!wget https://github.com/matterport/Mask_RCNN/releases/download/v2.0/mask_rcnn_coco.h5\n",
        "!wget https://raw.githubusercontent.com/wooihaw/datasets/main/photos.zip\n",
        "!unzip photos.zip"
      ],
      "execution_count": null,
      "outputs": []
    },
    {
      "cell_type": "code",
      "metadata": {
        "id": "8N7XfBOGcxZ7"
      },
      "source": [
        "%matplotlib inline"
      ],
      "execution_count": null,
      "outputs": []
    },
    {
      "cell_type": "code",
      "metadata": {
        "id": "LvxIwu-7ungm"
      },
      "source": [
        "import pixellib\n",
        "from pixellib.instance import instance_segmentation\n",
        "import matplotlib.pyplot as plt\n",
        "from PIL import Image\n",
        "\n",
        "filename = 'street.jpg'\n",
        "\n",
        "segment_image = instance_segmentation()\n",
        "segment_image.load_model(\"mask_rcnn_coco.h5\")\n",
        "segment_image.segmentImage(filename, output_image_name = \"output.jpg\", show_bboxes = True)\n",
        "\n",
        "im = Image.open(filename)\n",
        "plt.axis('off')\n",
        "plt.imshow(im)\n"
      ],
      "execution_count": null,
      "outputs": []
    }
  ]
}