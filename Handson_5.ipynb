{
  "nbformat": 4,
  "nbformat_minor": 0,
  "metadata": {
    "colab": {
      "name": "Handson_5.ipynb",
      "provenance": []
    },
    "kernelspec": {
      "name": "python3",
      "display_name": "Python 3"
    },
    "language_info": {
      "name": "python"
    },
    "accelerator": "GPU"
  },
  "cells": [
    {
      "cell_type": "markdown",
      "metadata": {
        "id": "EujSzKSQWjPc"
      },
      "source": [
        "In this hands-on, we will use a pre-trained CNN model called Xception to classify images. This model has been trained using the Imagenet dataset with 1000 classes."
      ]
    },
    {
      "cell_type": "code",
      "metadata": {
        "id": "t8pClq5tTagp"
      },
      "source": [
        "!wget https://raw.githubusercontent.com/wooihaw/datasets/main/photos.zip\n",
        "!unzip photos.zip"
      ],
      "execution_count": null,
      "outputs": []
    },
    {
      "cell_type": "code",
      "metadata": {
        "id": "K4fsn5WbTVRc"
      },
      "source": [
        "%matplotlib inline"
      ],
      "execution_count": null,
      "outputs": []
    },
    {
      "cell_type": "code",
      "metadata": {
        "id": "G_aOX8r_u4Gv"
      },
      "source": [
        "# Load the required modules\n",
        "from tensorflow.keras.applications import Xception\n",
        "from tensorflow.keras.preprocessing import image\n",
        "from tensorflow.keras.applications.xception import preprocess_input, decode_predictions\n",
        "import numpy as np\n",
        "import matplotlib.pyplot as plt\n",
        "\n",
        "# Load the model\n",
        "model = Xception(weights='imagenet')\n",
        "\n",
        "img_path = 'animals2.jpg'\n",
        "img = image.load_img(img_path, target_size=(299, 299))\n",
        "x = image.img_to_array(img)\n",
        "x = np.expand_dims(x, axis=0)\n",
        "x = preprocess_input(x)\n",
        "\n",
        "plt.imshow(img)\n",
        "\n",
        "preds = model.predict(x)\n",
        "# decode the results into a list of tuples (class, description, probability)\n",
        "# (one such list for each sample in the batch)\n",
        "predictions = decode_predictions(preds, top=3)[0]\n",
        "results = [f'{j}: {k:.3f}' for i, j, k in predictions]\n",
        "print('Predicted:', results)"
      ],
      "execution_count": null,
      "outputs": []
    }
  ]
}